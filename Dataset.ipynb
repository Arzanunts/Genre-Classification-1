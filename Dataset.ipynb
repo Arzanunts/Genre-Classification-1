{
 "cells": [
  {
   "cell_type": "markdown",
   "id": "b031e3bd",
   "metadata": {},
   "source": [
    "<h2 align=\"center\">Собираем Датасет на основе музыки Spotify</h2> "
   ]
  },
  {
   "cell_type": "code",
   "execution_count": 633,
   "id": "096ee03f",
   "metadata": {},
   "outputs": [],
   "source": [
    "import json\n",
    "import pandas as pd\n",
    "import numpy as np\n",
    "import os\n",
    "from tqdm import tqdm\n",
    "import librosa as lr\n",
    "import pydub\n",
    "import math\n",
    "from sklearn.decomposition import PCA\n",
    "\n"
   ]
  },
  {
   "cell_type": "code",
   "execution_count": 634,
   "id": "5bc7845f",
   "metadata": {},
   "outputs": [],
   "source": [
    "path = 'Path to songs Spotify'\n",
    "genres = os.listdir(path)\n",
    "del genres[1]\n",
    "path2 = 'Path to songs GTZAN'\n",
    "genresgt = os.listdir(path2)\n",
    "del genresgt[1]\n"
   ]
  },
  {
   "cell_type": "markdown",
   "id": "78bee3fb",
   "metadata": {},
   "source": [
    "Посмотрим сколько песен мы можем загрузить по длительности и количеству(возможно потом это будет важно)"
   ]
  },
  {
   "cell_type": "code",
   "execution_count": 640,
   "id": "09273784",
   "metadata": {},
   "outputs": [
    {
     "data": {
      "text/plain": [
       "[46, 43, 40, 45, 48, 48, 46, 50, 46, 47]"
      ]
     },
     "execution_count": 640,
     "metadata": {},
     "output_type": "execute_result"
    }
   ],
   "source": [
    "msmin_bygenre = dict(list(zip(genres,[0 for _ in range(10)])))\n",
    "numsong = list()\n",
    "for genre in genres:\n",
    "    songs = os.listdir(path+f'/{genre}')\n",
    "    numsong.append(len(songs))\n",
    "minsong = min(numsong)\n",
    "numsong"
   ]
  },
  {
   "cell_type": "code",
   "execution_count": 4,
   "id": "41fc6685",
   "metadata": {},
   "outputs": [
    {
     "name": "stderr",
     "output_type": "stream",
     "text": [
      "100it [00:15,  6.39it/s]\n",
      "100it [00:13,  7.19it/s]\n",
      "100it [00:14,  6.74it/s]\n",
      "100it [00:14,  6.90it/s]\n",
      "100it [00:14,  6.90it/s]\n",
      "100it [00:14,  6.95it/s]\n",
      "100it [00:14,  6.93it/s]\n",
      "100it [00:14,  7.13it/s]\n",
      "100it [00:14,  6.90it/s]\n",
      "100it [00:14,  6.76it/s]\n"
     ]
    }
   ],
   "source": [
    "msmin_bygenregt = dict(list(zip(genresgt,[0 for _ in range(10)])))\n",
    "for genre in genresgt:\n",
    "    songs = os.listdir(path2+f'/{genre}')\n",
    "    dlit = list()\n",
    "    for j,s in tqdm(enumerate(songs)):\n",
    "        try:\n",
    "            dur = pydub.utils.mediainfo(path2+f'/{genre}'+f'/{s}')['duration']\n",
    "            data, sr = lr.load(path2+f'/{genre}'+f'/{s}',  duration = math.floor(float(dur)))\n",
    "        except:\n",
    "            continue\n",
    "        dlit.append(data.shape[0])\n",
    "    msmin_bygenregt[genre] = min(dlit)"
   ]
  },
  {
   "cell_type": "code",
   "execution_count": 636,
   "id": "a8ff6816",
   "metadata": {},
   "outputs": [
    {
     "data": {
      "text/plain": [
       "{'pop': 661500,\n",
       " 'metal': 661500,\n",
       " 'disco': 639450,\n",
       " 'blues': 661500,\n",
       " 'reggae': 661500,\n",
       " 'classical': 639450,\n",
       " 'rock': 639450,\n",
       " 'hiphop': 639450,\n",
       " 'country': 639450,\n",
       " 'jazz': 661500}"
      ]
     },
     "execution_count": 636,
     "metadata": {},
     "output_type": "execute_result"
    }
   ],
   "source": [
    "msmin_bygenregt"
   ]
  },
  {
   "cell_type": "code",
   "execution_count": 638,
   "id": "f91e33b3",
   "metadata": {},
   "outputs": [
    {
     "name": "stderr",
     "output_type": "stream",
     "text": [
      "40it [00:29,  1.34it/s]\n",
      "40it [00:29,  1.35it/s]\n",
      "40it [00:25,  1.55it/s]\n",
      "40it [00:32,  1.23it/s]\n",
      "40it [00:30,  1.33it/s]\n",
      "40it [00:25,  1.60it/s]\n",
      "40it [00:29,  1.35it/s]\n",
      "40it [00:28,  1.39it/s]\n",
      "40it [00:26,  1.52it/s]\n",
      "40it [00:35,  1.14it/s]\n"
     ]
    }
   ],
   "source": [
    "for genre in genres:\n",
    "    songs = os.listdir(path+f'/{genre}')\n",
    "    dlit = list()\n",
    "    for j,s in tqdm(enumerate(songs)):\n",
    "        if j == minsong:\n",
    "            break\n",
    "        try:\n",
    "            dur = pydub.utils.mediainfo(path+f'/{genre}'+f'/{s}')['duration']\n",
    "            data, sr = lr.load(path+f'/{genre}'+f'/{s}',  duration = math.floor(float(dur)))\n",
    "        except:\n",
    "            continue\n",
    "        dlit.append(data.shape[0])\n",
    "    msmin_bygenre[genre] = min(dlit)"
   ]
  },
  {
   "cell_type": "code",
   "execution_count": 639,
   "id": "6306bbea",
   "metadata": {},
   "outputs": [
    {
     "data": {
      "text/plain": [
       "{'reggae_spotify': 3351600,\n",
       " 'disco_spotify': 3814650,\n",
       " 'blues_spotify': 2579850,\n",
       " 'metal_spotify': 3858750,\n",
       " 'rock_spotify': 3219300,\n",
       " 'pop_spotify': 617400,\n",
       " 'hip hop_spotify': 3550050,\n",
       " 'classical_spotify': 1278900,\n",
       " 'country_spotify': 3351600,\n",
       " 'jazz_spotify': 2998800}"
      ]
     },
     "execution_count": 639,
     "metadata": {},
     "output_type": "execute_result"
    }
   ],
   "source": [
    "msmin_bygenre"
   ]
  },
  {
   "cell_type": "markdown",
   "id": "77a73f4a",
   "metadata": {},
   "source": [
    "#### Загружаем песни из датасета GTZAN\n",
    "**GTZAN**\n",
    "* Создан в ~2000 году\n",
    "* Состоит из 10 жанров по 100 песен, длительностью 30 секунд\n",
    "* Песня начинается с произвольного момента(однозначно не начало)\n",
    "* При прослушивании некоторых песен что-то режет слух; Возможно в песнях есть какой-то шум, битый звук\n",
    "* Непонятно, как собирались данные, нет кода по сбору\\\n",
    "\n",
    "Из всех предпосылок выше был сделан вывод, что этот датасет не стоит использовать. Однако код по сбору признаков остался."
   ]
  },
  {
   "cell_type": "code",
   "execution_count": 396,
   "id": "79f4cc65",
   "metadata": {
    "scrolled": false
   },
   "outputs": [
    {
     "name": "stdout",
     "output_type": "stream",
     "text": [
      "pop\n"
     ]
    },
    {
     "name": "stderr",
     "output_type": "stream",
     "text": [
      "100it [03:26,  2.06s/it]\n"
     ]
    },
    {
     "name": "stdout",
     "output_type": "stream",
     "text": [
      "metal\n"
     ]
    },
    {
     "name": "stderr",
     "output_type": "stream",
     "text": [
      "100it [03:28,  2.08s/it]\n"
     ]
    },
    {
     "name": "stdout",
     "output_type": "stream",
     "text": [
      "disco\n"
     ]
    },
    {
     "name": "stderr",
     "output_type": "stream",
     "text": [
      "100it [03:29,  2.10s/it]\n"
     ]
    },
    {
     "name": "stdout",
     "output_type": "stream",
     "text": [
      "blues\n"
     ]
    },
    {
     "name": "stderr",
     "output_type": "stream",
     "text": [
      "100it [03:30,  2.11s/it]\n"
     ]
    },
    {
     "name": "stdout",
     "output_type": "stream",
     "text": [
      "reggae\n"
     ]
    },
    {
     "name": "stderr",
     "output_type": "stream",
     "text": [
      "100it [03:35,  2.15s/it]\n"
     ]
    },
    {
     "name": "stdout",
     "output_type": "stream",
     "text": [
      "classical\n"
     ]
    },
    {
     "name": "stderr",
     "output_type": "stream",
     "text": [
      "100it [03:41,  2.22s/it]\n"
     ]
    },
    {
     "name": "stdout",
     "output_type": "stream",
     "text": [
      "rock\n"
     ]
    },
    {
     "name": "stderr",
     "output_type": "stream",
     "text": [
      "100it [03:28,  2.09s/it]\n"
     ]
    },
    {
     "name": "stdout",
     "output_type": "stream",
     "text": [
      "hiphop\n"
     ]
    },
    {
     "name": "stderr",
     "output_type": "stream",
     "text": [
      "100it [03:39,  2.19s/it]\n"
     ]
    },
    {
     "name": "stdout",
     "output_type": "stream",
     "text": [
      "country\n"
     ]
    },
    {
     "name": "stderr",
     "output_type": "stream",
     "text": [
      "100it [03:54,  2.34s/it]\n"
     ]
    },
    {
     "name": "stdout",
     "output_type": "stream",
     "text": [
      "jazz\n"
     ]
    },
    {
     "name": "stderr",
     "output_type": "stream",
     "text": [
      "44it [01:38,  2.24s/it]\n"
     ]
    },
    {
     "ename": "KeyError",
     "evalue": "'duration_ts'",
     "output_type": "error",
     "traceback": [
      "\u001b[0;31m---------------------------------------------------------------------------\u001b[0m",
      "\u001b[0;31mKeyError\u001b[0m                                  Traceback (most recent call last)",
      "Cell \u001b[0;32mIn [396], line 9\u001b[0m\n\u001b[1;32m      7\u001b[0m \u001b[38;5;28;01mif\u001b[39;00m s \u001b[38;5;241m==\u001b[39m \u001b[38;5;124m'\u001b[39m\u001b[38;5;124m.DS_Store\u001b[39m\u001b[38;5;124m'\u001b[39m:\n\u001b[1;32m      8\u001b[0m     \u001b[38;5;28;01mpass\u001b[39;00m\n\u001b[0;32m----> 9\u001b[0m durts \u001b[38;5;241m=\u001b[39m \u001b[43mpydub\u001b[49m\u001b[38;5;241;43m.\u001b[39;49m\u001b[43mutils\u001b[49m\u001b[38;5;241;43m.\u001b[39;49m\u001b[43mmediainfo\u001b[49m\u001b[43m(\u001b[49m\u001b[43mpath2\u001b[49m\u001b[38;5;241;43m+\u001b[39;49m\u001b[38;5;124;43mf\u001b[39;49m\u001b[38;5;124;43m'\u001b[39;49m\u001b[38;5;124;43m/\u001b[39;49m\u001b[38;5;132;43;01m{\u001b[39;49;00m\u001b[43mgenre\u001b[49m\u001b[38;5;132;43;01m}\u001b[39;49;00m\u001b[38;5;124;43m'\u001b[39;49m\u001b[38;5;241;43m+\u001b[39;49m\u001b[38;5;124;43mf\u001b[39;49m\u001b[38;5;124;43m'\u001b[39;49m\u001b[38;5;124;43m/\u001b[39;49m\u001b[38;5;132;43;01m{\u001b[39;49;00m\u001b[43ms\u001b[49m\u001b[38;5;132;43;01m}\u001b[39;49;00m\u001b[38;5;124;43m'\u001b[39;49m\u001b[43m)\u001b[49m\u001b[43m[\u001b[49m\u001b[38;5;124;43m'\u001b[39;49m\u001b[38;5;124;43mduration_ts\u001b[39;49m\u001b[38;5;124;43m'\u001b[39;49m\u001b[43m]\u001b[49m\n\u001b[1;32m     10\u001b[0m datak, sr \u001b[38;5;241m=\u001b[39m lr\u001b[38;5;241m.\u001b[39mload(path2\u001b[38;5;241m+\u001b[39m\u001b[38;5;124mf\u001b[39m\u001b[38;5;124m'\u001b[39m\u001b[38;5;124m/\u001b[39m\u001b[38;5;132;01m{\u001b[39;00mgenre\u001b[38;5;132;01m}\u001b[39;00m\u001b[38;5;124m'\u001b[39m\u001b[38;5;241m+\u001b[39m\u001b[38;5;124mf\u001b[39m\u001b[38;5;124m'\u001b[39m\u001b[38;5;124m/\u001b[39m\u001b[38;5;132;01m{\u001b[39;00ms\u001b[38;5;132;01m}\u001b[39;00m\u001b[38;5;124m'\u001b[39m,  duration \u001b[38;5;241m=\u001b[39m math\u001b[38;5;241m.\u001b[39mfloor(\u001b[38;5;28mfloat\u001b[39m(durts)))\n\u001b[1;32m     11\u001b[0m \u001b[38;5;28;01mfor\u001b[39;00m i \u001b[38;5;129;01min\u001b[39;00m \u001b[38;5;28mrange\u001b[39m(\u001b[38;5;241m10\u001b[39m):\n",
      "\u001b[0;31mKeyError\u001b[0m: 'duration_ts'"
     ]
    }
   ],
   "source": [
    "gtzan_genre = dict(list(zip(genresgt,[0 for _ in range(10)])))\n",
    "for genre in genresgt:\n",
    "    ans = np.zeros((55,))\n",
    "    songs = os.listdir(path2+f'/{genre}')\n",
    "    print(genre)\n",
    "    for j,s in tqdm(enumerate(songs)):\n",
    "        if s == '.DS_Store':\n",
    "            pass\n",
    "        durts = pydub.utils.mediainfo(path2+f'/{genre}'+f'/{s}')['duration_ts']\n",
    "        datak, sr = lr.load(path2+f'/{genre}'+f'/{s}',  duration = math.floor(float(durts)))\n",
    "        for i in range(10):\n",
    "            data = datak[i*66149:66149*(i+1)]\n",
    "            mfcc = lr.feature.mfcc(y=data,sr=sr)\n",
    "            stft = lr.feature.chroma_stft(y=data, sr=sr)\n",
    "            rms = lr.feature.rms(y=data)\n",
    "            centroid = lr.feature.spectral_centroid(y=data, sr=sr)\n",
    "            bandwith = lr.feature.spectral_bandwidth(y=data, sr=sr)\n",
    "            rolloff = lr.feature.spectral_rolloff(y=data, sr=sr)\n",
    "            zero = lr.feature.zero_crossing_rate(y=data)\n",
    "            harm = lr.effects.harmonic(y=data)\n",
    "            temp = lr.feature.tempo(y=data)\n",
    "            mfccmean = np.mean(mfcc,axis=1)\n",
    "            mfccvar = np.std(mfcc,axis=1)\n",
    "            stftmean = np.mean(stft)\n",
    "            stftvar = np.std(stft)\n",
    "            rmsmean = np.mean(rms)\n",
    "            rmsvar = np.std(rms)\n",
    "            centroidmean = np.mean(centroid)\n",
    "            centroidvar = np.std(centroid)\n",
    "            bandwithmean = np.mean(bandwith)\n",
    "            bandwithvar = np.std(bandwith)\n",
    "            rolloffmean = np.mean(rolloff)\n",
    "            rolloffvar = np.std(rolloff)\n",
    "            zeromean = np.mean(zero)\n",
    "            zerovar = np.std(zero)\n",
    "            harmmean = np.mean(harm)\n",
    "            harmvar = np.std(harm)\n",
    "            prom = list()\n",
    "            for feat in [mfccmean,mfccvar,stftmean,stftvar,rmsmean,rmsvar,centroidmean,centroidvar,bandwithmean,bandwithvar,rolloffmean,rolloffvar,zeromean,zerovar,harmmean,harmvar,temp[0]]:\n",
    "                if type(feat) == np.ndarray:\n",
    "                    prom += feat.tolist()\n",
    "                else:\n",
    "                    prom.append(feat)\n",
    "            prom = np.array(prom)\n",
    "            ans = np.vstack((prom,ans))\n",
    "    gtzan_genre[genre] = ans"
   ]
  },
  {
   "cell_type": "markdown",
   "id": "e3eadb46",
   "metadata": {},
   "source": [
    "Ошибка, продолжим собирать, используя костыли"
   ]
  },
  {
   "cell_type": "code",
   "execution_count": 433,
   "id": "bffee378",
   "metadata": {},
   "outputs": [
    {
     "name": "stdout",
     "output_type": "stream",
     "text": [
      "jazz\n"
     ]
    },
    {
     "name": "stderr",
     "output_type": "stream",
     "text": [
      "100it [03:32,  2.12s/it]\n"
     ]
    }
   ],
   "source": [
    "ans = np.zeros((55,))\n",
    "songs = os.listdir(path2+f'/{genre}')\n",
    "print(genre)\n",
    "for j,s in tqdm(enumerate(songs)):\n",
    "    if s == '.DS_Store' or s =='jazz.00054.wav':\n",
    "        continue\n",
    "    durts = pydub.utils.mediainfo(path2+f'/{genre}'+f'/{s}')['duration_ts']\n",
    "    datak, sr = lr.load(path2+f'/{genre}'+f'/{s}',  duration = math.floor(float(durts)))\n",
    "    for i in range(10):\n",
    "        data = datak[i*66149:66149*(i+1)]\n",
    "        mfcc = lr.feature.mfcc(y=data,sr=sr)\n",
    "        stft = lr.feature.chroma_stft(y=data, sr=sr)\n",
    "        rms = lr.feature.rms(y=data)\n",
    "        centroid = lr.feature.spectral_centroid(y=data, sr=sr)\n",
    "        bandwith = lr.feature.spectral_bandwidth(y=data, sr=sr)\n",
    "        rolloff = lr.feature.spectral_rolloff(y=data, sr=sr)\n",
    "        zero = lr.feature.zero_crossing_rate(y=data)\n",
    "        harm = lr.effects.harmonic(y=data)\n",
    "        temp = lr.feature.tempo(y=data)\n",
    "        mfccmean = np.mean(mfcc,axis=1)\n",
    "        mfccvar = np.std(mfcc,axis=1)\n",
    "        stftmean = np.mean(stft)\n",
    "        stftvar = np.std(stft)\n",
    "        rmsmean = np.mean(rms)\n",
    "        rmsvar = np.std(rms)\n",
    "        centroidmean = np.mean(centroid)\n",
    "        centroidvar = np.std(centroid)\n",
    "        bandwithmean = np.mean(bandwith)\n",
    "        bandwithvar = np.std(bandwith)\n",
    "        rolloffmean = np.mean(rolloff)\n",
    "        rolloffvar = np.std(rolloff)\n",
    "        zeromean = np.mean(zero)\n",
    "        zerovar = np.std(zero)\n",
    "        harmmean = np.mean(harm)\n",
    "        harmvar = np.std(harm)\n",
    "        prom = list()\n",
    "        for feat in [mfccmean,mfccvar,stftmean,stftvar,rmsmean,rmsvar,centroidmean,centroidvar,bandwithmean,bandwithvar,rolloffmean,rolloffvar,zeromean,zerovar,harmmean,harmvar,temp[0]]:\n",
    "            if type(feat) == np.ndarray:\n",
    "                prom += feat.tolist()\n",
    "            else:\n",
    "                prom.append(feat)\n",
    "        prom = np.array(prom)\n",
    "        ans = np.vstack((prom,ans))\n",
    "gtzan_genre[genre] = ans"
   ]
  },
  {
   "cell_type": "markdown",
   "id": "cb04893c",
   "metadata": {},
   "source": [
    "#### Датасет из песен Spotify\n",
    "**Каким образом?** \\\n",
    "Мы используем несколько признаков из библиотеки `librosa.feature`, таких как: MFCC, Chroma STFT, RMS, Spectral bandwith, centroid, rolloff, zero crossing rate, harmonic, tempo. Подробнее об этих методах библиотеки librosa описано в **librosa_preview.ipynb**. Все эти методы на вход принимают предобработанный аудиофайл - временной ряд, который загружается через `librosa.feature.load`. Так как некоторые из этих методов на выходе выдают матрицы(MFCC), а некоторые выдают np.array, то принято решение брать среднее и стандартное отклонение. Для матриц: mean и std по строкам, для векторов: mean и std по единственной строке. Это сделано для того, чтобы во-первых, уменьшить количество признаков, дабы избежать проблемы переобучения(многие из этих методов могут выдавать векторы размерностью до 1000 или более), а во-вторых, чтобы агрегировать данные.\\\n",
    "**Агрегация данных**\\\n",
    "Использование среднего и стандартного отклонения агрегирует информацию, что плохо для нашего случая. Почему? Каждый из этих методов обрабатывает временной ряд так, чтобы на выходе выдать информацию, которая представляет собой либо матрицу, либо вектор. В случае с вектором, каждое его значение будет показывать определенную \"черту\"(в зависимости от метода) трека в определенный момент времени. Поэтому агрегировать данные по времени не совсем хорошо - мы теряем часть информации и по итогу говорим лишь о том, как в целом выглядит эта \"черта\" за все время.\\\n",
    "**Борьба с агрегацией** \\\n",
    "Пусть у нас есть трек длительностью, например, 1.5 минуты(90 секунд). Если агрегировать информацию по всему треку сразу, то мы потеряем слишком много информации и собственно, датасет будет содержать в себе так мало данных, что обучиться на них хорошо будет нереально. Поэтому разобьем трек на отрезки по 3 секунды и будем по ним считать librosa.feature и потом по ним среднее и стандартное отклонение. Это позволит агрегировать информацию на меньшем отрезке и терять меньше данных.\n"
   ]
  },
  {
   "cell_type": "code",
   "execution_count": 16,
   "id": "9fa621fb",
   "metadata": {},
   "outputs": [
    {
     "data": {
      "text/plain": [
       "['pop',\n",
       " 'metal',\n",
       " 'disco',\n",
       " 'blues',\n",
       " 'reggae',\n",
       " 'classical',\n",
       " 'rock',\n",
       " 'hiphop',\n",
       " 'country',\n",
       " 'jazz']"
      ]
     },
     "execution_count": 16,
     "metadata": {},
     "output_type": "execute_result"
    }
   ],
   "source": [
    "genresgt"
   ]
  },
  {
   "cell_type": "code",
   "execution_count": 14,
   "id": "9cc9c699",
   "metadata": {
    "scrolled": true
   },
   "outputs": [
    {
     "name": "stdout",
     "output_type": "stream",
     "text": [
      "pop_spotify\n",
      "85\n",
      "9\n",
      "41\n",
      "67\n",
      "70\n",
      "73\n",
      "76\n",
      "61\n",
      "72\n",
      "66\n",
      "60\n",
      "40\n",
      "66\n",
      "73\n",
      "77\n",
      "71\n",
      "78\n",
      "76\n",
      "69\n",
      "67\n",
      "69\n",
      "69\n",
      "58\n",
      "66\n",
      "82\n",
      "9\n",
      "66\n",
      "82\n",
      "58\n",
      "70\n",
      "85\n",
      "83\n",
      "75\n",
      "68\n",
      "75\n",
      "metal_spotify\n",
      "80\n",
      "96\n",
      "105\n",
      "63\n",
      "81\n",
      "85\n",
      "126\n",
      "88\n",
      "81\n",
      "70\n",
      "58\n",
      "84\n",
      "95\n",
      "80\n",
      "113\n",
      "138\n",
      "67\n",
      "104\n",
      "115\n",
      "86\n",
      "74\n",
      "93\n",
      "84\n",
      "90\n",
      "109\n",
      "97\n",
      "127\n",
      "140\n",
      "71\n",
      "86\n",
      "96\n",
      "131\n",
      "94\n",
      "71\n",
      "79\n",
      "disco_spotify\n",
      "78\n",
      "78\n",
      "63\n",
      "74\n",
      "82\n",
      "61\n",
      "81\n",
      "95\n",
      "71\n",
      "68\n",
      "95\n",
      "143\n",
      "82\n",
      "131\n",
      "125\n",
      "87\n",
      "98\n",
      "60\n",
      "80\n",
      "80\n",
      "77\n",
      "58\n",
      "82\n",
      "75\n",
      "68\n",
      "77\n",
      "63\n",
      "111\n",
      "71\n",
      "57\n",
      "67\n",
      "71\n",
      "100\n",
      "95\n",
      "61\n",
      "blues_spotify\n",
      "137\n",
      "48\n",
      "56\n",
      "67\n",
      "170\n",
      "78\n",
      "79\n",
      "91\n",
      "115\n",
      "46\n",
      "49\n",
      "87\n",
      "54\n",
      "63\n",
      "57\n",
      "106\n",
      "172\n",
      "63\n",
      "56\n",
      "86\n",
      "39\n",
      "56\n",
      "60\n",
      "57\n",
      "59\n",
      "55\n",
      "59\n",
      "63\n",
      "62\n",
      "56\n",
      "49\n",
      "72\n",
      "55\n",
      "43\n",
      "56\n",
      "reggae_spotify\n",
      "94\n",
      "105\n",
      "79\n",
      "85\n",
      "72\n",
      "74\n",
      "72\n",
      "77\n",
      "71\n",
      "54\n",
      "57\n",
      "98\n",
      "91\n",
      "80\n",
      "76\n",
      "72\n",
      "59\n",
      "69\n",
      "103\n",
      "79\n",
      "88\n",
      "85\n",
      "75\n",
      "50\n",
      "77\n",
      "156\n",
      "77\n",
      "73\n",
      "59\n",
      "92\n",
      "82\n",
      "116\n",
      "59\n",
      "71\n",
      "92\n",
      "classical_spotify\n",
      "85\n",
      "76\n",
      "60\n",
      "19\n",
      "104\n",
      "86\n",
      "64\n",
      "89\n"
     ]
    },
    {
     "ename": "NoBackendError",
     "evalue": "",
     "output_type": "error",
     "traceback": [
      "\u001b[0;31m---------------------------------------------------------------------------\u001b[0m",
      "\u001b[0;31mLibsndfileError\u001b[0m                           Traceback (most recent call last)",
      "File \u001b[0;32m/Library/Frameworks/Python.framework/Versions/3.10/lib/python3.10/site-packages/librosa/core/audio.py:176\u001b[0m, in \u001b[0;36mload\u001b[0;34m(path, sr, mono, offset, duration, dtype, res_type)\u001b[0m\n\u001b[1;32m    175\u001b[0m \u001b[38;5;28;01mtry\u001b[39;00m:\n\u001b[0;32m--> 176\u001b[0m     y, sr_native \u001b[38;5;241m=\u001b[39m \u001b[43m__soundfile_load\u001b[49m\u001b[43m(\u001b[49m\u001b[43mpath\u001b[49m\u001b[43m,\u001b[49m\u001b[43m \u001b[49m\u001b[43moffset\u001b[49m\u001b[43m,\u001b[49m\u001b[43m \u001b[49m\u001b[43mduration\u001b[49m\u001b[43m,\u001b[49m\u001b[43m \u001b[49m\u001b[43mdtype\u001b[49m\u001b[43m)\u001b[49m\n\u001b[1;32m    178\u001b[0m \u001b[38;5;28;01mexcept\u001b[39;00m sf\u001b[38;5;241m.\u001b[39mSoundFileRuntimeError \u001b[38;5;28;01mas\u001b[39;00m exc:\n\u001b[1;32m    179\u001b[0m     \u001b[38;5;66;03m# If soundfile failed, try audioread instead\u001b[39;00m\n",
      "File \u001b[0;32m/Library/Frameworks/Python.framework/Versions/3.10/lib/python3.10/site-packages/librosa/core/audio.py:209\u001b[0m, in \u001b[0;36m__soundfile_load\u001b[0;34m(path, offset, duration, dtype)\u001b[0m\n\u001b[1;32m    207\u001b[0m \u001b[38;5;28;01melse\u001b[39;00m:\n\u001b[1;32m    208\u001b[0m     \u001b[38;5;66;03m# Otherwise, create the soundfile object\u001b[39;00m\n\u001b[0;32m--> 209\u001b[0m     context \u001b[38;5;241m=\u001b[39m \u001b[43msf\u001b[49m\u001b[38;5;241;43m.\u001b[39;49m\u001b[43mSoundFile\u001b[49m\u001b[43m(\u001b[49m\u001b[43mpath\u001b[49m\u001b[43m)\u001b[49m\n\u001b[1;32m    211\u001b[0m \u001b[38;5;28;01mwith\u001b[39;00m context \u001b[38;5;28;01mas\u001b[39;00m sf_desc:\n",
      "File \u001b[0;32m/Library/Frameworks/Python.framework/Versions/3.10/lib/python3.10/site-packages/soundfile.py:658\u001b[0m, in \u001b[0;36mSoundFile.__init__\u001b[0;34m(self, file, mode, samplerate, channels, subtype, endian, format, closefd)\u001b[0m\n\u001b[1;32m    656\u001b[0m \u001b[38;5;28mself\u001b[39m\u001b[38;5;241m.\u001b[39m_info \u001b[38;5;241m=\u001b[39m _create_info_struct(file, mode, samplerate, channels,\n\u001b[1;32m    657\u001b[0m                                  \u001b[38;5;28mformat\u001b[39m, subtype, endian)\n\u001b[0;32m--> 658\u001b[0m \u001b[38;5;28mself\u001b[39m\u001b[38;5;241m.\u001b[39m_file \u001b[38;5;241m=\u001b[39m \u001b[38;5;28;43mself\u001b[39;49m\u001b[38;5;241;43m.\u001b[39;49m\u001b[43m_open\u001b[49m\u001b[43m(\u001b[49m\u001b[43mfile\u001b[49m\u001b[43m,\u001b[49m\u001b[43m \u001b[49m\u001b[43mmode_int\u001b[49m\u001b[43m,\u001b[49m\u001b[43m \u001b[49m\u001b[43mclosefd\u001b[49m\u001b[43m)\u001b[49m\n\u001b[1;32m    659\u001b[0m \u001b[38;5;28;01mif\u001b[39;00m \u001b[38;5;28mset\u001b[39m(mode)\u001b[38;5;241m.\u001b[39missuperset(\u001b[38;5;124m'\u001b[39m\u001b[38;5;124mr+\u001b[39m\u001b[38;5;124m'\u001b[39m) \u001b[38;5;129;01mand\u001b[39;00m \u001b[38;5;28mself\u001b[39m\u001b[38;5;241m.\u001b[39mseekable():\n\u001b[1;32m    660\u001b[0m     \u001b[38;5;66;03m# Move write position to 0 (like in Python file objects)\u001b[39;00m\n",
      "File \u001b[0;32m/Library/Frameworks/Python.framework/Versions/3.10/lib/python3.10/site-packages/soundfile.py:1216\u001b[0m, in \u001b[0;36mSoundFile._open\u001b[0;34m(self, file, mode_int, closefd)\u001b[0m\n\u001b[1;32m   1215\u001b[0m     err \u001b[38;5;241m=\u001b[39m _snd\u001b[38;5;241m.\u001b[39msf_error(file_ptr)\n\u001b[0;32m-> 1216\u001b[0m     \u001b[38;5;28;01mraise\u001b[39;00m LibsndfileError(err, prefix\u001b[38;5;241m=\u001b[39m\u001b[38;5;124m\"\u001b[39m\u001b[38;5;124mError opening \u001b[39m\u001b[38;5;132;01m{0!r}\u001b[39;00m\u001b[38;5;124m: \u001b[39m\u001b[38;5;124m\"\u001b[39m\u001b[38;5;241m.\u001b[39mformat(\u001b[38;5;28mself\u001b[39m\u001b[38;5;241m.\u001b[39mname))\n\u001b[1;32m   1217\u001b[0m \u001b[38;5;28;01mif\u001b[39;00m mode_int \u001b[38;5;241m==\u001b[39m _snd\u001b[38;5;241m.\u001b[39mSFM_WRITE:\n\u001b[1;32m   1218\u001b[0m     \u001b[38;5;66;03m# Due to a bug in libsndfile version <= 1.0.25, frames != 0\u001b[39;00m\n\u001b[1;32m   1219\u001b[0m     \u001b[38;5;66;03m# when opening a named pipe in SFM_WRITE mode.\u001b[39;00m\n\u001b[1;32m   1220\u001b[0m     \u001b[38;5;66;03m# See http://github.com/erikd/libsndfile/issues/77.\u001b[39;00m\n",
      "\u001b[0;31mLibsndfileError\u001b[0m: Error opening '/Users/stevenstrange/Desktop/Genres/songs/Spotify/classical_spotify/.DS_Store': Format not recognised.",
      "\nDuring handling of the above exception, another exception occurred:\n",
      "\u001b[0;31mNoBackendError\u001b[0m                            Traceback (most recent call last)",
      "Cell \u001b[0;32mIn [14], line 21\u001b[0m\n\u001b[1;32m     19\u001b[0m \u001b[38;5;28;01mexcept\u001b[39;00m:\n\u001b[1;32m     20\u001b[0m     \u001b[38;5;28;01mpass\u001b[39;00m\n\u001b[0;32m---> 21\u001b[0m datak, sr \u001b[38;5;241m=\u001b[39m \u001b[43mlr\u001b[49m\u001b[38;5;241;43m.\u001b[39;49m\u001b[43mload\u001b[49m\u001b[43m(\u001b[49m\u001b[43mpath\u001b[49m\u001b[38;5;241;43m+\u001b[39;49m\u001b[38;5;124;43mf\u001b[39;49m\u001b[38;5;124;43m'\u001b[39;49m\u001b[38;5;124;43m/\u001b[39;49m\u001b[38;5;132;43;01m{\u001b[39;49;00m\u001b[43mgenre\u001b[49m\u001b[38;5;132;43;01m}\u001b[39;49;00m\u001b[38;5;124;43m'\u001b[39;49m\u001b[38;5;241;43m+\u001b[39;49m\u001b[38;5;124;43mf\u001b[39;49m\u001b[38;5;124;43m'\u001b[39;49m\u001b[38;5;124;43m/\u001b[39;49m\u001b[38;5;132;43;01m{\u001b[39;49;00m\u001b[43ms\u001b[49m\u001b[38;5;132;43;01m}\u001b[39;49;00m\u001b[38;5;124;43m'\u001b[39;49m\u001b[43m,\u001b[49m\u001b[43m  \u001b[49m\u001b[43mduration\u001b[49m\u001b[43m \u001b[49m\u001b[38;5;241;43m=\u001b[39;49m\u001b[43m \u001b[49m\u001b[43mmath\u001b[49m\u001b[38;5;241;43m.\u001b[39;49m\u001b[43mfloor\u001b[49m\u001b[43m(\u001b[49m\u001b[38;5;28;43mfloat\u001b[39;49m\u001b[43m(\u001b[49m\u001b[43mdur\u001b[49m\u001b[43m)\u001b[49m\u001b[43m)\u001b[49m\u001b[43m)\u001b[49m\n\u001b[1;32m     22\u001b[0m count \u001b[38;5;241m=\u001b[39m math\u001b[38;5;241m.\u001b[39mfloor(\u001b[38;5;28mfloat\u001b[39m(dur)\u001b[38;5;241m/\u001b[39m\u001b[38;5;241m3\u001b[39m)\n\u001b[1;32m     23\u001b[0m i \u001b[38;5;241m=\u001b[39m \u001b[38;5;241m0\u001b[39m\n",
      "File \u001b[0;32m/Library/Frameworks/Python.framework/Versions/3.10/lib/python3.10/site-packages/librosa/core/audio.py:184\u001b[0m, in \u001b[0;36mload\u001b[0;34m(path, sr, mono, offset, duration, dtype, res_type)\u001b[0m\n\u001b[1;32m    180\u001b[0m \u001b[38;5;28;01mif\u001b[39;00m \u001b[38;5;28misinstance\u001b[39m(path, (\u001b[38;5;28mstr\u001b[39m, pathlib\u001b[38;5;241m.\u001b[39mPurePath)):\n\u001b[1;32m    181\u001b[0m     warnings\u001b[38;5;241m.\u001b[39mwarn(\n\u001b[1;32m    182\u001b[0m         \u001b[38;5;124m\"\u001b[39m\u001b[38;5;124mPySoundFile failed. Trying audioread instead.\u001b[39m\u001b[38;5;124m\"\u001b[39m, stacklevel\u001b[38;5;241m=\u001b[39m\u001b[38;5;241m2\u001b[39m\n\u001b[1;32m    183\u001b[0m     )\n\u001b[0;32m--> 184\u001b[0m     y, sr_native \u001b[38;5;241m=\u001b[39m \u001b[43m__audioread_load\u001b[49m\u001b[43m(\u001b[49m\u001b[43mpath\u001b[49m\u001b[43m,\u001b[49m\u001b[43m \u001b[49m\u001b[43moffset\u001b[49m\u001b[43m,\u001b[49m\u001b[43m \u001b[49m\u001b[43mduration\u001b[49m\u001b[43m,\u001b[49m\u001b[43m \u001b[49m\u001b[43mdtype\u001b[49m\u001b[43m)\u001b[49m\n\u001b[1;32m    185\u001b[0m \u001b[38;5;28;01melse\u001b[39;00m:\n\u001b[1;32m    186\u001b[0m     \u001b[38;5;28;01mraise\u001b[39;00m exc\n",
      "File \u001b[0;32m/Library/Frameworks/Python.framework/Versions/3.10/lib/python3.10/site-packages/decorator.py:232\u001b[0m, in \u001b[0;36mdecorate.<locals>.fun\u001b[0;34m(*args, **kw)\u001b[0m\n\u001b[1;32m    230\u001b[0m \u001b[38;5;28;01mif\u001b[39;00m \u001b[38;5;129;01mnot\u001b[39;00m kwsyntax:\n\u001b[1;32m    231\u001b[0m     args, kw \u001b[38;5;241m=\u001b[39m fix(args, kw, sig)\n\u001b[0;32m--> 232\u001b[0m \u001b[38;5;28;01mreturn\u001b[39;00m \u001b[43mcaller\u001b[49m\u001b[43m(\u001b[49m\u001b[43mfunc\u001b[49m\u001b[43m,\u001b[49m\u001b[43m \u001b[49m\u001b[38;5;241;43m*\u001b[39;49m\u001b[43m(\u001b[49m\u001b[43mextras\u001b[49m\u001b[43m \u001b[49m\u001b[38;5;241;43m+\u001b[39;49m\u001b[43m \u001b[49m\u001b[43margs\u001b[49m\u001b[43m)\u001b[49m\u001b[43m,\u001b[49m\u001b[43m \u001b[49m\u001b[38;5;241;43m*\u001b[39;49m\u001b[38;5;241;43m*\u001b[39;49m\u001b[43mkw\u001b[49m\u001b[43m)\u001b[49m\n",
      "File \u001b[0;32m/Library/Frameworks/Python.framework/Versions/3.10/lib/python3.10/site-packages/librosa/util/decorators.py:60\u001b[0m, in \u001b[0;36mdeprecated.<locals>.__wrapper\u001b[0;34m(func, *args, **kwargs)\u001b[0m\n\u001b[1;32m     51\u001b[0m \u001b[38;5;124;03m\"\"\"Warn the user, and then proceed.\"\"\"\u001b[39;00m\n\u001b[1;32m     52\u001b[0m warnings\u001b[38;5;241m.\u001b[39mwarn(\n\u001b[1;32m     53\u001b[0m     \u001b[38;5;124m\"\u001b[39m\u001b[38;5;132;01m{:s}\u001b[39;00m\u001b[38;5;124m.\u001b[39m\u001b[38;5;132;01m{:s}\u001b[39;00m\u001b[38;5;130;01m\\n\u001b[39;00m\u001b[38;5;130;01m\\t\u001b[39;00m\u001b[38;5;124mDeprecated as of librosa version \u001b[39m\u001b[38;5;132;01m{:s}\u001b[39;00m\u001b[38;5;124m.\u001b[39m\u001b[38;5;124m\"\u001b[39m\n\u001b[1;32m     54\u001b[0m     \u001b[38;5;124m\"\u001b[39m\u001b[38;5;130;01m\\n\u001b[39;00m\u001b[38;5;130;01m\\t\u001b[39;00m\u001b[38;5;124mIt will be removed in librosa version \u001b[39m\u001b[38;5;132;01m{:s}\u001b[39;00m\u001b[38;5;124m.\u001b[39m\u001b[38;5;124m\"\u001b[39m\u001b[38;5;241m.\u001b[39mformat(\n\u001b[0;32m   (...)\u001b[0m\n\u001b[1;32m     58\u001b[0m     stacklevel\u001b[38;5;241m=\u001b[39m\u001b[38;5;241m3\u001b[39m,  \u001b[38;5;66;03m# Would be 2, but the decorator adds a level\u001b[39;00m\n\u001b[1;32m     59\u001b[0m )\n\u001b[0;32m---> 60\u001b[0m \u001b[38;5;28;01mreturn\u001b[39;00m \u001b[43mfunc\u001b[49m\u001b[43m(\u001b[49m\u001b[38;5;241;43m*\u001b[39;49m\u001b[43margs\u001b[49m\u001b[43m,\u001b[49m\u001b[43m \u001b[49m\u001b[38;5;241;43m*\u001b[39;49m\u001b[38;5;241;43m*\u001b[39;49m\u001b[43mkwargs\u001b[49m\u001b[43m)\u001b[49m\n",
      "File \u001b[0;32m/Library/Frameworks/Python.framework/Versions/3.10/lib/python3.10/site-packages/librosa/core/audio.py:241\u001b[0m, in \u001b[0;36m__audioread_load\u001b[0;34m(path, offset, duration, dtype)\u001b[0m\n\u001b[1;32m    238\u001b[0m     reader \u001b[38;5;241m=\u001b[39m path\n\u001b[1;32m    239\u001b[0m \u001b[38;5;28;01melse\u001b[39;00m:\n\u001b[1;32m    240\u001b[0m     \u001b[38;5;66;03m# If the input was not an audioread object, try to open it\u001b[39;00m\n\u001b[0;32m--> 241\u001b[0m     reader \u001b[38;5;241m=\u001b[39m \u001b[43maudioread\u001b[49m\u001b[38;5;241;43m.\u001b[39;49m\u001b[43maudio_open\u001b[49m\u001b[43m(\u001b[49m\u001b[43mpath\u001b[49m\u001b[43m)\u001b[49m\n\u001b[1;32m    243\u001b[0m \u001b[38;5;28;01mwith\u001b[39;00m reader \u001b[38;5;28;01mas\u001b[39;00m input_file:\n\u001b[1;32m    244\u001b[0m     sr_native \u001b[38;5;241m=\u001b[39m input_file\u001b[38;5;241m.\u001b[39msamplerate\n",
      "File \u001b[0;32m/Library/Frameworks/Python.framework/Versions/3.10/lib/python3.10/site-packages/audioread/__init__.py:132\u001b[0m, in \u001b[0;36maudio_open\u001b[0;34m(path, backends)\u001b[0m\n\u001b[1;32m    129\u001b[0m         \u001b[38;5;28;01mpass\u001b[39;00m\n\u001b[1;32m    131\u001b[0m \u001b[38;5;66;03m# All backends failed!\u001b[39;00m\n\u001b[0;32m--> 132\u001b[0m \u001b[38;5;28;01mraise\u001b[39;00m NoBackendError()\n",
      "\u001b[0;31mNoBackendError\u001b[0m: "
     ]
    }
   ],
   "source": [
    "import warnings\n",
    "warnings.filterwarnings('ignore')\n",
    "spotify_genre = dict(list(zip(genres,[0 for _ in range(10)])))\n",
    "for k,genre in enumerate(genresgt):\n",
    "    genre = genre+'_spotify'\n",
    "    if genre == 'hiphop_spotify':\n",
    "        genre = 'hip hop_spotify'\n",
    "    ans = np.zeros((55,))\n",
    "    songs = os.listdir(path+f'/{genre}')\n",
    "    print(genre)\n",
    "    for j,s in (enumerate(songs)):\n",
    "        if j == 35:\n",
    "            break\n",
    "        if s == '.DS_Store':\n",
    "            pass\n",
    "        try:\n",
    "            dur = pydub.utils.mediainfo(path+f'/{genre}'+f'/{s}')['duration']\n",
    "            durts = pydub.utils.mediainfo(path+f'/{genre}'+f'/{s}')['duration_ts']\n",
    "        except:\n",
    "            pass\n",
    "        datak, sr = lr.load(path+f'/{genre}'+f'/{s}',  duration = math.floor(float(dur)))\n",
    "        count = math.floor(float(dur)/3)\n",
    "        i = 0\n",
    "        print(count)\n",
    "        while i <= count:\n",
    "            data = datak[i*66149:66149*(i+1)]\n",
    "            mfcc = lr.feature.mfcc(y=data,sr=sr)\n",
    "            stft = lr.feature.chroma_stft(y=data, sr=sr)\n",
    "            rms = lr.feature.rms(y=data)\n",
    "            centroid = lr.feature.spectral_centroid(y=data, sr=sr)\n",
    "            bandwith = lr.feature.spectral_bandwidth(y=data, sr=sr)\n",
    "            rolloff = lr.feature.spectral_rolloff(y=data, sr=sr)\n",
    "            zero = lr.feature.zero_crossing_rate(y=data)\n",
    "            harm = lr.effects.harmonic(y=data)\n",
    "            temp = lr.feature.tempo(y=data)\n",
    "            mfccmean = np.mean(mfcc,axis=1)\n",
    "            mfccvar = np.std(mfcc,axis=1)\n",
    "            stftmean = np.mean(stft)\n",
    "            stftvar = np.std(stft)\n",
    "            rmsmean = np.mean(rms)\n",
    "            rmsvar = np.std(rms)\n",
    "            centroidmean = np.mean(centroid)\n",
    "            centroidvar = np.std(centroid)\n",
    "            bandwithmean = np.mean(bandwith)\n",
    "            bandwithvar = np.std(bandwith)\n",
    "            rolloffmean = np.mean(rolloff)\n",
    "            rolloffvar = np.std(rolloff)\n",
    "            zeromean = np.mean(zero)\n",
    "            zerovar = np.std(zero)\n",
    "            harmmean = np.mean(harm)\n",
    "            harmvar = np.std(harm)\n",
    "            prom = list()\n",
    "            for feat in [stftmean,stftvar,rmsmean,rmsvar,centroidmean,centroidvar,bandwithmean,bandwithvar,rolloffmean,rolloffvar,zeromean,zerovar,harmmean,harmvar,temp[0],mfccmean,mfccvar]:\n",
    "                if type(feat) == np.ndarray:\n",
    "                    prom += feat.tolist()\n",
    "                else:\n",
    "                    prom.append(feat)\n",
    "            prom = np.array(prom)\n",
    "            ans = np.vstack((prom,ans))\n",
    "            i+=1\n",
    "    ans = np.hstack((ans,np.array([k for i in range(ans.shape[0])]).reshape(-1,1)))\n",
    "    spotify_genre[genre] = ans"
   ]
  },
  {
   "cell_type": "code",
   "execution_count": 90,
   "id": "5d5d3685",
   "metadata": {
    "scrolled": true
   },
   "outputs": [
    {
     "name": "stdout",
     "output_type": "stream",
     "text": [
      "classical_spotify\n",
      "85\n",
      "76\n",
      "60\n",
      "19\n",
      "104\n",
      "86\n",
      "64\n",
      "89\n",
      "56\n",
      "164\n",
      "100\n",
      "43\n",
      "89\n",
      "29\n",
      "115\n",
      "37\n",
      "74\n",
      "238\n",
      "75\n",
      "56\n",
      "59\n",
      "50\n",
      "21\n",
      "53\n",
      "57\n",
      "92\n",
      "82\n",
      "39\n",
      "59\n",
      "119\n",
      "250\n",
      "142\n",
      "47\n",
      "79\n",
      "rock_spotify\n",
      "72\n",
      "89\n",
      "76\n",
      "55\n",
      "90\n",
      "62\n",
      "74\n",
      "84\n",
      "88\n",
      "168\n",
      "70\n",
      "66\n",
      "118\n",
      "93\n",
      "54\n",
      "52\n",
      "76\n",
      "90\n",
      "69\n",
      "85\n",
      "59\n",
      "109\n",
      "48\n",
      "135\n",
      "88\n",
      "103\n",
      "74\n",
      "59\n",
      "94\n",
      "83\n",
      "74\n",
      "111\n",
      "77\n",
      "110\n",
      "66\n",
      "hip hop_spotify\n",
      "95\n",
      "96\n",
      "83\n",
      "53\n",
      "115\n",
      "99\n",
      "91\n",
      "97\n",
      "80\n",
      "78\n",
      "70\n",
      "85\n",
      "68\n",
      "77\n",
      "93\n",
      "73\n",
      "93\n",
      "82\n",
      "134\n",
      "83\n",
      "100\n",
      "66\n",
      "93\n",
      "95\n",
      "86\n",
      "86\n",
      "70\n",
      "62\n",
      "54\n",
      "83\n",
      "78\n",
      "73\n",
      "130\n",
      "75\n",
      "55\n",
      "country_spotify\n",
      "62\n",
      "68\n",
      "70\n",
      "61\n",
      "73\n",
      "60\n",
      "74\n",
      "60\n",
      "79\n",
      "67\n",
      "73\n",
      "61\n",
      "75\n",
      "83\n",
      "111\n",
      "62\n",
      "50\n",
      "91\n",
      "78\n",
      "62\n",
      "65\n",
      "57\n",
      "97\n",
      "70\n",
      "69\n",
      "74\n",
      "73\n",
      "69\n",
      "75\n",
      "65\n",
      "70\n",
      "60\n",
      "69\n",
      "71\n",
      "64\n",
      "jazz_spotify\n",
      "61\n",
      "91\n",
      "94\n",
      "114\n",
      "63\n",
      "143\n",
      "134\n",
      "122\n",
      "63\n",
      "186\n",
      "63\n",
      "55\n",
      "56\n",
      "199\n",
      "134\n",
      "59\n",
      "96\n",
      "63\n",
      "64\n",
      "45\n",
      "99\n",
      "196\n",
      "55\n",
      "55\n",
      "107\n",
      "91\n",
      "159\n",
      "68\n",
      "166\n",
      "69\n",
      "140\n",
      "71\n",
      "174\n",
      "100\n",
      "67\n"
     ]
    }
   ],
   "source": [
    "for k,genre in zip([5,6,7,8,9],['classical','rock','hiphop','country','jazz']):\n",
    "    genre = genre+'_spotify'\n",
    "    if genre == 'hiphop_spotify':\n",
    "        genre = 'hip hop_spotify'\n",
    "    ans = np.zeros((55,))\n",
    "    songs = os.listdir(path+f'/{genre}')\n",
    "    print(genre)\n",
    "    for j,s in (enumerate(songs)):\n",
    "        if j == 35:\n",
    "            break\n",
    "        if s == '.DS_Store':\n",
    "            continue\n",
    "        try:\n",
    "            dur = pydub.utils.mediainfo(path+f'/{genre}'+f'/{s}')['duration']\n",
    "            durts = pydub.utils.mediainfo(path+f'/{genre}'+f'/{s}')['duration_ts']\n",
    "        except:\n",
    "            continue\n",
    "        datak, sr = lr.load(path+f'/{genre}'+f'/{s}',  duration = math.floor(float(dur)))\n",
    "        count = math.floor(float(dur)/3)\n",
    "        i = 0\n",
    "        print(count)\n",
    "        while i <= count:\n",
    "            data = datak[i*66149:66149*(i+1)]\n",
    "            mfcc = lr.feature.mfcc(y=data,sr=sr)\n",
    "            stft = lr.feature.chroma_stft(y=data, sr=sr)\n",
    "            rms = lr.feature.rms(y=data)\n",
    "            centroid = lr.feature.spectral_centroid(y=data, sr=sr)\n",
    "            bandwith = lr.feature.spectral_bandwidth(y=data, sr=sr)\n",
    "            rolloff = lr.feature.spectral_rolloff(y=data, sr=sr)\n",
    "            zero = lr.feature.zero_crossing_rate(y=data)\n",
    "            harm = lr.effects.harmonic(y=data)\n",
    "            temp = lr.feature.tempo(y=data)\n",
    "            mfccmean = np.mean(mfcc,axis=1)\n",
    "            mfccvar = np.std(mfcc,axis=1)\n",
    "            stftmean = np.mean(stft)\n",
    "            stftvar = np.std(stft)\n",
    "            rmsmean = np.mean(rms)\n",
    "            rmsvar = np.std(rms)\n",
    "            centroidmean = np.mean(centroid)\n",
    "            centroidvar = np.std(centroid)\n",
    "            bandwithmean = np.mean(bandwith)\n",
    "            bandwithvar = np.std(bandwith)\n",
    "            rolloffmean = np.mean(rolloff)\n",
    "            rolloffvar = np.std(rolloff)\n",
    "            zeromean = np.mean(zero)\n",
    "            zerovar = np.std(zero)\n",
    "            harmmean = np.mean(harm)\n",
    "            harmvar = np.std(harm)\n",
    "            prom = list()\n",
    "            for feat in [stftmean,stftvar,rmsmean,rmsvar,centroidmean,centroidvar,bandwithmean,bandwithvar,rolloffmean,rolloffvar,zeromean,zerovar,harmmean,harmvar,temp[0],mfccmean,mfccvar]:\n",
    "                if type(feat) == np.ndarray:\n",
    "                    prom += feat.tolist()\n",
    "                else:\n",
    "                    prom.append(feat)\n",
    "            prom = np.array(prom)\n",
    "            ans = np.vstack((prom,ans))\n",
    "            i+=1\n",
    "    ans = np.hstack((ans,np.array([k for i in range(ans.shape[0])]).reshape(-1,1)))\n",
    "    spotify_genre[genre] = ans"
   ]
  },
  {
   "cell_type": "markdown",
   "id": "fa67704f",
   "metadata": {},
   "source": [
    "Собрали данные по жанрам, загрузим их в DataFrame"
   ]
  },
  {
   "cell_type": "code",
   "execution_count": 669,
   "id": "3af63fd9",
   "metadata": {},
   "outputs": [],
   "source": [
    "df = pd.DataFrame(np.vstack((np_genre_spotify.values())))"
   ]
  },
  {
   "cell_type": "code",
   "execution_count": 670,
   "id": "fd087431",
   "metadata": {},
   "outputs": [],
   "source": [
    "df = qwer.sort_values(by=55)"
   ]
  },
  {
   "cell_type": "markdown",
   "id": "4ef7fc14",
   "metadata": {},
   "source": [
    "На данный момент загрузим \"по тупому\" train и test классы, дабы избежать лика в данных."
   ]
  },
  {
   "cell_type": "code",
   "execution_count": 671,
   "id": "20178c35",
   "metadata": {},
   "outputs": [],
   "source": [
    "class_train_1 = df.iloc[:1789,:]\n",
    "class_test_1 = df.iloc[1789:2347,:]\n",
    "class_train_2 = df.iloc[2347:4651,:]\n",
    "class_test_2 = df.iloc[4651:4651+988,:]\n",
    "class_train_3 = df.iloc[5639:7428,:]\n",
    "class_test_3 = df.iloc[7428:8539,:]\n",
    "class_train_4 = df.iloc[8539:10328,:]\n",
    "class_test_4 = df.iloc[10328:11095,:]\n",
    "class_train_5 = df.iloc[11095:13093,:]\n",
    "class_test_5 = df.iloc[13093:13949,:]\n",
    "class_train_6 = df.iloc[13949:15938,:]\n",
    "class_test_6 = df.iloc[15938:16791,:]\n",
    "class_train_7 = df.iloc[16791:18860,:]\n",
    "class_test_7 = df.iloc[18860:19747,:]\n",
    "class_train_8 = df.iloc[19747:21837,:]\n",
    "class_test_8 = df.iloc[21837:22733,:]\n",
    "class_train_9 = df.iloc[22733:24823,:]\n",
    "class_test_9 = df.iloc[24823:25236,:]\n",
    "class_train_10 = df.iloc[25236:27726,:]\n",
    "class_test_10 = df.iloc[27726:28793,:]"
   ]
  },
  {
   "cell_type": "code",
   "execution_count": 672,
   "id": "d9f3439a",
   "metadata": {},
   "outputs": [],
   "source": [
    "test = pd.DataFrame(np.vstack((class_test_1,class_test_2,class_test_3,class_test_4,\n",
    "                                class_test_5,class_test_6,class_test_7,class_test_8,class_test_9,class_test_10)))\n",
    "train = pd.DataFrame(np.vstack((class_train_1,class_train_2,class_train_3,\n",
    "                                 class_train_4,class_test_5,class_train_6,class_train_7,\n",
    "                                 class_train_8,class_train_9,class_train_10)))\n",
    "X_train = train.iloc[:,:-1]\n",
    "y_train = train[55]\n",
    "X_test = test.iloc[:,:-1]\n",
    "y_test = test[55]"
   ]
  },
  {
   "cell_type": "markdown",
   "id": "f184b3cd",
   "metadata": {},
   "source": [
    "Сохраним датасет в формате .csv"
   ]
  },
  {
   "cell_type": "code",
   "execution_count": 673,
   "id": "bc318116",
   "metadata": {},
   "outputs": [],
   "source": [
    "df.to_csv('spotify.csv')"
   ]
  },
  {
   "cell_type": "markdown",
   "id": "e7a5b1c5",
   "metadata": {},
   "source": [
    "Проверим на незнакомых данных"
   ]
  },
  {
   "cell_type": "code",
   "execution_count": 660,
   "id": "ce12e87d",
   "metadata": {
    "scrolled": true
   },
   "outputs": [
    {
     "name": "stdout",
     "output_type": "stream",
     "text": [
      "83\n",
      "3.0    59\n",
      "6.0    19\n",
      "2.0     3\n",
      "9.0     2\n",
      "1.0     1\n",
      "8.0     1\n",
      "dtype: int64\n",
      "56\n",
      "3.0    51\n",
      "8.0     5\n",
      "5.0     2\n",
      "dtype: int64\n",
      "115\n",
      "3.0    41\n",
      "4.0    21\n",
      "9.0    20\n",
      "8.0    17\n",
      "0.0    12\n",
      "6.0     6\n",
      "dtype: int64\n",
      "59\n",
      "0.0    39\n",
      "5.0    19\n",
      "9.0     1\n",
      "8.0     1\n",
      "3.0     1\n",
      "dtype: int64\n",
      "57\n"
     ]
    },
    {
     "ename": "KeyboardInterrupt",
     "evalue": "",
     "output_type": "error",
     "traceback": [
      "\u001b[0;31m---------------------------------------------------------------------------\u001b[0m",
      "\u001b[0;31mKeyboardInterrupt\u001b[0m                         Traceback (most recent call last)",
      "Cell \u001b[0;32mIn [660], line 22\u001b[0m\n\u001b[1;32m     20\u001b[0m \u001b[38;5;28;01mexcept\u001b[39;00m:\n\u001b[1;32m     21\u001b[0m     \u001b[38;5;28;01mbreak\u001b[39;00m\n\u001b[0;32m---> 22\u001b[0m harm \u001b[38;5;241m=\u001b[39m \u001b[43mlr\u001b[49m\u001b[38;5;241;43m.\u001b[39;49m\u001b[43meffects\u001b[49m\u001b[38;5;241;43m.\u001b[39;49m\u001b[43mharmonic\u001b[49m\u001b[43m(\u001b[49m\u001b[43my\u001b[49m\u001b[38;5;241;43m=\u001b[39;49m\u001b[43mdata\u001b[49m\u001b[43m)\u001b[49m\n\u001b[1;32m     23\u001b[0m temp \u001b[38;5;241m=\u001b[39m lr\u001b[38;5;241m.\u001b[39mfeature\u001b[38;5;241m.\u001b[39mtempo(y\u001b[38;5;241m=\u001b[39mdata)\n\u001b[1;32m     24\u001b[0m mfccmean \u001b[38;5;241m=\u001b[39m np\u001b[38;5;241m.\u001b[39mmean(mfcc,axis\u001b[38;5;241m=\u001b[39m\u001b[38;5;241m1\u001b[39m)\n",
      "File \u001b[0;32m/Library/Frameworks/Python.framework/Versions/3.10/lib/python3.10/site-packages/librosa/effects.py:146\u001b[0m, in \u001b[0;36mharmonic\u001b[0;34m(y, **kwargs)\u001b[0m\n\u001b[1;32m    143\u001b[0m stft \u001b[38;5;241m=\u001b[39m core\u001b[38;5;241m.\u001b[39mstft(y)\n\u001b[1;32m    145\u001b[0m \u001b[38;5;66;03m# Remove percussives\u001b[39;00m\n\u001b[0;32m--> 146\u001b[0m stft_harm \u001b[38;5;241m=\u001b[39m \u001b[43mdecompose\u001b[49m\u001b[38;5;241;43m.\u001b[39;49m\u001b[43mhpss\u001b[49m\u001b[43m(\u001b[49m\u001b[43mstft\u001b[49m\u001b[43m,\u001b[49m\u001b[43m \u001b[49m\u001b[38;5;241;43m*\u001b[39;49m\u001b[38;5;241;43m*\u001b[39;49m\u001b[43mkwargs\u001b[49m\u001b[43m)\u001b[49m[\u001b[38;5;241m0\u001b[39m]\n\u001b[1;32m    148\u001b[0m \u001b[38;5;66;03m# Invert the STFTs\u001b[39;00m\n\u001b[1;32m    149\u001b[0m y_harm \u001b[38;5;241m=\u001b[39m core\u001b[38;5;241m.\u001b[39mistft(stft_harm, dtype\u001b[38;5;241m=\u001b[39my\u001b[38;5;241m.\u001b[39mdtype, length\u001b[38;5;241m=\u001b[39my\u001b[38;5;241m.\u001b[39mshape[\u001b[38;5;241m-\u001b[39m\u001b[38;5;241m1\u001b[39m])\n",
      "File \u001b[0;32m/Library/Frameworks/Python.framework/Versions/3.10/lib/python3.10/site-packages/librosa/decompose.py:396\u001b[0m, in \u001b[0;36mhpss\u001b[0;34m(S, kernel_size, power, mask, margin)\u001b[0m\n\u001b[1;32m    393\u001b[0m harm[:] \u001b[38;5;241m=\u001b[39m median_filter(S, size\u001b[38;5;241m=\u001b[39mharm_shape, mode\u001b[38;5;241m=\u001b[39m\u001b[38;5;124m\"\u001b[39m\u001b[38;5;124mreflect\u001b[39m\u001b[38;5;124m\"\u001b[39m)\n\u001b[1;32m    395\u001b[0m perc \u001b[38;5;241m=\u001b[39m np\u001b[38;5;241m.\u001b[39mempty_like(S)\n\u001b[0;32m--> 396\u001b[0m perc[:] \u001b[38;5;241m=\u001b[39m \u001b[43mmedian_filter\u001b[49m\u001b[43m(\u001b[49m\u001b[43mS\u001b[49m\u001b[43m,\u001b[49m\u001b[43m \u001b[49m\u001b[43msize\u001b[49m\u001b[38;5;241;43m=\u001b[39;49m\u001b[43mperc_shape\u001b[49m\u001b[43m,\u001b[49m\u001b[43m \u001b[49m\u001b[43mmode\u001b[49m\u001b[38;5;241;43m=\u001b[39;49m\u001b[38;5;124;43m\"\u001b[39;49m\u001b[38;5;124;43mreflect\u001b[39;49m\u001b[38;5;124;43m\"\u001b[39;49m\u001b[43m)\u001b[49m\n\u001b[1;32m    398\u001b[0m split_zeros \u001b[38;5;241m=\u001b[39m margin_harm \u001b[38;5;241m==\u001b[39m \u001b[38;5;241m1\u001b[39m \u001b[38;5;129;01mand\u001b[39;00m margin_perc \u001b[38;5;241m==\u001b[39m \u001b[38;5;241m1\u001b[39m\n\u001b[1;32m    400\u001b[0m mask_harm \u001b[38;5;241m=\u001b[39m util\u001b[38;5;241m.\u001b[39msoftmask(\n\u001b[1;32m    401\u001b[0m     harm, perc \u001b[38;5;241m*\u001b[39m margin_harm, power\u001b[38;5;241m=\u001b[39mpower, split_zeros\u001b[38;5;241m=\u001b[39msplit_zeros\n\u001b[1;32m    402\u001b[0m )\n",
      "File \u001b[0;32m/Library/Frameworks/Python.framework/Versions/3.10/lib/python3.10/site-packages/scipy/ndimage/_filters.py:1427\u001b[0m, in \u001b[0;36mmedian_filter\u001b[0;34m(input, size, footprint, output, mode, cval, origin)\u001b[0m\n\u001b[1;32m   1383\u001b[0m \u001b[38;5;129m@_ni_docstrings\u001b[39m\u001b[38;5;241m.\u001b[39mdocfiller\n\u001b[1;32m   1384\u001b[0m \u001b[38;5;28;01mdef\u001b[39;00m \u001b[38;5;21mmedian_filter\u001b[39m(\u001b[38;5;28minput\u001b[39m, size\u001b[38;5;241m=\u001b[39m\u001b[38;5;28;01mNone\u001b[39;00m, footprint\u001b[38;5;241m=\u001b[39m\u001b[38;5;28;01mNone\u001b[39;00m, output\u001b[38;5;241m=\u001b[39m\u001b[38;5;28;01mNone\u001b[39;00m,\n\u001b[1;32m   1385\u001b[0m                   mode\u001b[38;5;241m=\u001b[39m\u001b[38;5;124m\"\u001b[39m\u001b[38;5;124mreflect\u001b[39m\u001b[38;5;124m\"\u001b[39m, cval\u001b[38;5;241m=\u001b[39m\u001b[38;5;241m0.0\u001b[39m, origin\u001b[38;5;241m=\u001b[39m\u001b[38;5;241m0\u001b[39m):\n\u001b[1;32m   1386\u001b[0m     \u001b[38;5;124;03m\"\"\"\u001b[39;00m\n\u001b[1;32m   1387\u001b[0m \u001b[38;5;124;03m    Calculate a multidimensional median filter.\u001b[39;00m\n\u001b[1;32m   1388\u001b[0m \n\u001b[0;32m   (...)\u001b[0m\n\u001b[1;32m   1425\u001b[0m \u001b[38;5;124;03m    >>> plt.show()\u001b[39;00m\n\u001b[1;32m   1426\u001b[0m \u001b[38;5;124;03m    \"\"\"\u001b[39;00m\n\u001b[0;32m-> 1427\u001b[0m     \u001b[38;5;28;01mreturn\u001b[39;00m \u001b[43m_rank_filter\u001b[49m\u001b[43m(\u001b[49m\u001b[38;5;28;43minput\u001b[39;49m\u001b[43m,\u001b[49m\u001b[43m \u001b[49m\u001b[38;5;241;43m0\u001b[39;49m\u001b[43m,\u001b[49m\u001b[43m \u001b[49m\u001b[43msize\u001b[49m\u001b[43m,\u001b[49m\u001b[43m \u001b[49m\u001b[43mfootprint\u001b[49m\u001b[43m,\u001b[49m\u001b[43m \u001b[49m\u001b[43moutput\u001b[49m\u001b[43m,\u001b[49m\u001b[43m \u001b[49m\u001b[43mmode\u001b[49m\u001b[43m,\u001b[49m\u001b[43m \u001b[49m\u001b[43mcval\u001b[49m\u001b[43m,\u001b[49m\n\u001b[1;32m   1428\u001b[0m \u001b[43m                        \u001b[49m\u001b[43morigin\u001b[49m\u001b[43m,\u001b[49m\u001b[43m \u001b[49m\u001b[38;5;124;43m'\u001b[39;49m\u001b[38;5;124;43mmedian\u001b[39;49m\u001b[38;5;124;43m'\u001b[39;49m\u001b[43m)\u001b[49m\n",
      "File \u001b[0;32m/Library/Frameworks/Python.framework/Versions/3.10/lib/python3.10/site-packages/scipy/ndimage/_filters.py:1334\u001b[0m, in \u001b[0;36m_rank_filter\u001b[0;34m(input, rank, size, footprint, output, mode, cval, origin, operation)\u001b[0m\n\u001b[1;32m   1330\u001b[0m     \u001b[38;5;28;01mraise\u001b[39;00m \u001b[38;5;167;01mRuntimeError\u001b[39;00m(\n\u001b[1;32m   1331\u001b[0m         \u001b[38;5;124m\"\u001b[39m\u001b[38;5;124mA sequence of modes is not supported by non-separable rank \u001b[39m\u001b[38;5;124m\"\u001b[39m\n\u001b[1;32m   1332\u001b[0m         \u001b[38;5;124m\"\u001b[39m\u001b[38;5;124mfilters\u001b[39m\u001b[38;5;124m\"\u001b[39m)\n\u001b[1;32m   1333\u001b[0m mode \u001b[38;5;241m=\u001b[39m _ni_support\u001b[38;5;241m.\u001b[39m_extend_mode_to_code(mode)\n\u001b[0;32m-> 1334\u001b[0m \u001b[43m_nd_image\u001b[49m\u001b[38;5;241;43m.\u001b[39;49m\u001b[43mrank_filter\u001b[49m\u001b[43m(\u001b[49m\u001b[38;5;28;43minput\u001b[39;49m\u001b[43m,\u001b[49m\u001b[43m \u001b[49m\u001b[43mrank\u001b[49m\u001b[43m,\u001b[49m\u001b[43m \u001b[49m\u001b[43mfootprint\u001b[49m\u001b[43m,\u001b[49m\u001b[43m \u001b[49m\u001b[43moutput\u001b[49m\u001b[43m,\u001b[49m\u001b[43m \u001b[49m\u001b[43mmode\u001b[49m\u001b[43m,\u001b[49m\u001b[43m \u001b[49m\u001b[43mcval\u001b[49m\u001b[43m,\u001b[49m\n\u001b[1;32m   1335\u001b[0m \u001b[43m                      \u001b[49m\u001b[43morigins\u001b[49m\u001b[43m)\u001b[49m\n\u001b[1;32m   1336\u001b[0m \u001b[38;5;28;01mif\u001b[39;00m temp_needed:\n\u001b[1;32m   1337\u001b[0m     temp[\u001b[38;5;241m.\u001b[39m\u001b[38;5;241m.\u001b[39m\u001b[38;5;241m.\u001b[39m] \u001b[38;5;241m=\u001b[39m output\n",
      "\u001b[0;31mKeyboardInterrupt\u001b[0m: "
     ]
    }
   ],
   "source": [
    "for i in os.listdir('Y.Music/blues'):\n",
    "    e = 'Y.Music/blues/'+i\n",
    "    dur = pydub.utils.mediainfo(e)['duration']\n",
    "    durts = pydub.utils.mediainfo(e)['duration_ts']\n",
    "    datak, sr = lr.load(e,  duration = math.floor(float(dur)))\n",
    "    count = math.floor(float(dur)/3)\n",
    "    i = 0\n",
    "    t = np.zeros((55,))\n",
    "    print(count)\n",
    "    while i <= count:\n",
    "        data = datak[i*66149:66149*(i+1)]\n",
    "        mfcc = lr.feature.mfcc(y=data,sr=sr)\n",
    "        stft = lr.feature.chroma_stft(y=data, sr=sr)\n",
    "        rms = lr.feature.rms(y=data)\n",
    "        centroid = lr.feature.spectral_centroid(y=data, sr=sr)\n",
    "        bandwith = lr.feature.spectral_bandwidth(y=data, sr=sr)\n",
    "        rolloff = lr.feature.spectral_rolloff(y=data, sr=sr)\n",
    "        try:\n",
    "            zero = lr.feature.zero_crossing_rate(y=data)\n",
    "        except:\n",
    "            break\n",
    "        harm = lr.effects.harmonic(y=data)\n",
    "        temp = lr.feature.tempo(y=data)\n",
    "        mfccmean = np.mean(mfcc,axis=1)\n",
    "        mfccvar = np.std(mfcc,axis=1)\n",
    "        stftmean = np.mean(stft)\n",
    "        stftvar = np.std(stft)\n",
    "        rmsmean = np.mean(rms)\n",
    "        rmsvar = np.std(rms)\n",
    "        centroidmean = np.mean(centroid)\n",
    "        centroidvar = np.std(centroid)\n",
    "        bandwithmean = np.mean(bandwith)\n",
    "        bandwithvar = np.std(bandwith)\n",
    "        rolloffmean = np.mean(rolloff)\n",
    "        rolloffvar = np.std(rolloff)\n",
    "        zeromean = np.mean(zero)\n",
    "        zerovar = np.std(zero)\n",
    "        harmmean = np.mean(harm)\n",
    "        harmvar = np.std(harm)\n",
    "        prom = list()\n",
    "        for feat in [stftmean,stftvar,rmsmean,rmsvar,centroidmean,centroidvar,bandwithmean,bandwithvar,rolloffmean,rolloffvar,zeromean,zerovar,harmmean,harmvar,temp[0],mfccmean,mfccvar]:\n",
    "            if type(feat) == np.ndarray:\n",
    "                prom += feat.tolist()\n",
    "            else:\n",
    "                prom.append(feat)\n",
    "        prom = np.array(prom)\n",
    "    #         print(prom.shape)\n",
    "        t = np.vstack((prom,t))\n",
    "        i+=1\n",
    "    print(pd.Series(clf.predict(t).reshape(1,-1)[0]).value_counts())\n"
   ]
  },
  {
   "cell_type": "markdown",
   "id": "8857f032",
   "metadata": {},
   "source": [
    "Это все, конечно, круто. Но ведь лучше расписать это в классы? Сделаем"
   ]
  },
  {
   "cell_type": "code",
   "execution_count": 696,
   "id": "b2dd09a5",
   "metadata": {},
   "outputs": [],
   "source": [
    "from typing import DefaultDict\n",
    "class Dataset:\n",
    "    def __call__(self, *args, **kwargs):\n",
    "        raise TypeError(\"This class is not callable.\")\n",
    "    def make_dataset(self, path, num_songs=35, split=3)->DefaultDict(list):\n",
    "        def __init__(self, path, num_songs=35, split=3):\n",
    "            self.num_songs = num_songs\n",
    "            self.split = split\n",
    "            self.path = path\n",
    "        songs_dict = dict(list(zip(genres,[0 for _ in range(len(genres))])))\n",
    "        genresgt = os.listdir(path)\n",
    "        for k,genre in tqdm(enumerate(genresgt)):\n",
    "            ans = np.zeros((55,))\n",
    "            songs = os.listdir(path+f'/{genre}')\n",
    "            for j,s in (enumerate(songs)):\n",
    "                if j == num_songs:\n",
    "                    break\n",
    "                try:\n",
    "                    dur = pydub.utils.mediainfo(path+f'/{genre}'+f'/{s}')['duration']\n",
    "                    durts = pydub.utils.mediainfo(path+f'/{genre}'+f'/{s}')['duration_ts']\n",
    "                except:\n",
    "                    pass\n",
    "                datak, sr = lr.load(path+f'/{genre}'+f'/{s}',  duration = math.floor(float(dur)))\n",
    "                count = math.floor(float(dur)/split)\n",
    "                i = 0\n",
    "                while i <= count:\n",
    "                    data = datak[i*66149:66149*(i+1)]\n",
    "                    mfcc = lr.feature.mfcc(y=data,sr=sr)\n",
    "                    stft = lr.feature.chroma_stft(y=data, sr=sr)\n",
    "                    rms = lr.feature.rms(y=data)\n",
    "                    centroid = lr.feature.spectral_centroid(y=data, sr=sr)\n",
    "                    bandwith = lr.feature.spectral_bandwidth(y=data, sr=sr)\n",
    "                    rolloff = lr.feature.spectral_rolloff(y=data, sr=sr)\n",
    "                    zero = lr.feature.zero_crossing_rate(y=data)\n",
    "                    harm = lr.effects.harmonic(y=data)\n",
    "                    temp = lr.feature.tempo(y=data)\n",
    "                    mfccmean = np.mean(mfcc,axis=1)\n",
    "                    mfccvar = np.std(mfcc,axis=1)\n",
    "                    stftmean = np.mean(stft)\n",
    "                    stftvar = np.std(stft)\n",
    "                    rmsmean = np.mean(rms)\n",
    "                    rmsvar = np.std(rms)\n",
    "                    centroidmean = np.mean(centroid)\n",
    "                    centroidvar = np.std(centroid)\n",
    "                    bandwithmean = np.mean(bandwith)\n",
    "                    bandwithvar = np.std(bandwith)\n",
    "                    rolloffmean = np.mean(rolloff)\n",
    "                    rolloffvar = np.std(rolloff)\n",
    "                    zeromean = np.mean(zero)\n",
    "                    zerovar = np.std(zero)\n",
    "                    harmmean = np.mean(harm)\n",
    "                    harmvar = np.std(harm)\n",
    "                    prom = list()\n",
    "                    for feat in [stftmean,stftvar,rmsmean,rmsvar,centroidmean,centroidvar,bandwithmean,bandwithvar,rolloffmean,rolloffvar,zeromean,zerovar,harmmean,harmvar,temp[0],mfccmean,mfccvar]:\n",
    "                        if type(feat) == np.ndarray:\n",
    "                            prom += feat.tolist()\n",
    "                        else:\n",
    "                            prom.append(feat)\n",
    "                    prom = np.array(prom)\n",
    "                    ans = np.vstack((prom,ans))\n",
    "                    i+=1\n",
    "            ans = np.hstack((ans,np.array([k for i in range(ans.shape[0])]).reshape(-1,1)))\n",
    "            songs_dict[genre] = ans\n",
    "        return songs_dict\n",
    "    def get_song_features(self,path, split=3):\n",
    "        e = path\n",
    "        dur = pydub.utils.mediainfo(e)['duration']\n",
    "        durts = pydub.utils.mediainfo(e)['duration_ts']\n",
    "        datak, sr = lr.load(e,  duration = math.floor(float(dur)))\n",
    "        count = math.floor(float(dur)/split)\n",
    "        i = 0\n",
    "        t = np.zeros((55,))\n",
    "        print(count)\n",
    "        while i <= count:\n",
    "            data = datak[i*66149:66149*(i+1)]\n",
    "            mfcc = lr.feature.mfcc(y=data,sr=sr)\n",
    "            stft = lr.feature.chroma_stft(y=data, sr=sr)\n",
    "            rms = lr.feature.rms(y=data)\n",
    "            centroid = lr.feature.spectral_centroid(y=data, sr=sr)\n",
    "            bandwith = lr.feature.spectral_bandwidth(y=data, sr=sr)\n",
    "            rolloff = lr.feature.spectral_rolloff(y=data, sr=sr)\n",
    "            try:\n",
    "                zero = lr.feature.zero_crossing_rate(y=data)\n",
    "            except:\n",
    "                break\n",
    "            harm = lr.effects.harmonic(y=data)\n",
    "            temp = lr.feature.tempo(y=data)\n",
    "            mfccmean = np.mean(mfcc,axis=1)\n",
    "            mfccvar = np.std(mfcc,axis=1)\n",
    "            stftmean = np.mean(stft)\n",
    "            stftvar = np.std(stft)\n",
    "            rmsmean = np.mean(rms)\n",
    "            rmsvar = np.std(rms)\n",
    "            centroidmean = np.mean(centroid)\n",
    "            centroidvar = np.std(centroid)\n",
    "            bandwithmean = np.mean(bandwith)\n",
    "            bandwithvar = np.std(bandwith)\n",
    "            rolloffmean = np.mean(rolloff)\n",
    "            rolloffvar = np.std(rolloff)\n",
    "            zeromean = np.mean(zero)\n",
    "            zerovar = np.std(zero)\n",
    "            harmmean = np.mean(harm)\n",
    "            harmvar = np.std(harm)\n",
    "            prom = list()\n",
    "            for feat in [stftmean,stftvar,rmsmean,rmsvar,centroidmean,centroidvar,bandwithmean,bandwithvar,rolloffmean,rolloffvar,zeromean,zerovar,harmmean,harmvar,temp[0],mfccmean,mfccvar]:\n",
    "                if type(feat) == np.ndarray:\n",
    "                    prom += feat.tolist()\n",
    "                else:\n",
    "                    prom.append(feat)\n",
    "            prom = np.array(prom)\n",
    "            t = np.vstack((prom,t))\n",
    "            i+=1\n",
    "        return t\n"
   ]
  }
 ],
 "metadata": {
  "kernelspec": {
   "display_name": "Python 3 (ipykernel)",
   "language": "python",
   "name": "python3"
  },
  "language_info": {
   "codemirror_mode": {
    "name": "ipython",
    "version": 3
   },
   "file_extension": ".py",
   "mimetype": "text/x-python",
   "name": "python",
   "nbconvert_exporter": "python",
   "pygments_lexer": "ipython3",
   "version": "3.10.8"
  }
 },
 "nbformat": 4,
 "nbformat_minor": 5
}
